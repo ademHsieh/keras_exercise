{
  "cells": [
    {
      "cell_type": "code",
      "execution_count": 1,
      "metadata": {
        "id": "GlzCC0iDC5SC"
      },
      "outputs": [],
      "source": [
        "import numpy as np\n",
        "import pandas as pd\n",
        "from sklearn import preprocessing\n",
        "import numpy as np\n",
        "import matplotlib.pyplot as plt\n",
        "from sklearn.model_selection import train_test_split, cross_val_score, KFold\n",
        "from PIL import Image\n",
        "from tensorflow import keras\n",
        "from tensorflow.keras import datasets,layers,optimizers,Sequential,metrics\n",
        "import  os\n",
        "import glob\n",
        "import tensorflow as tf"
      ]
    },
    {
      "cell_type": "code",
      "execution_count": 2,
      "metadata": {
        "colab": {
          "base_uri": "https://localhost:8080/"
        },
        "id": "GRJA3dhgDqs2",
        "outputId": "7667332f-316a-43c9-bea0-0f8dfc9ada7f"
      },
      "outputs": [],
      "source": [
        "# load mnist data\n",
        "batch_size = 256\n",
        "(x_train, _), (x_test, _) = keras.datasets.mnist.load_data()\n",
        "x_train = x_train.astype(np.float32) / 255.\n",
        "train_data = tf.data.Dataset.from_tensor_slices(x_train).shuffle(batch_size*4).batch(batch_size).repeat()\n",
        "train_data_iter = iter(train_data)\n",
        "inputs_shape = [-1, 28, 28, 1]"
      ]
    },
    {
      "cell_type": "code",
      "execution_count": 3,
      "metadata": {
        "id": "t7a3uGDoDw5B"
      },
      "outputs": [],
      "source": [
        "class Generator(keras.Model):\n",
        "\n",
        "    def __init__(self):\n",
        "        super(Generator, self).__init__()\n",
        "\n",
        "        self.n_f = 512\n",
        "        self.n_k = 4\n",
        "\n",
        "        # input z vector is [None, 100]\n",
        "        self.dense1 = keras.layers.Dense(3 * 3 * self.n_f)\n",
        "        self.conv2 = keras.layers.Conv2DTranspose(self.n_f // 2, 3, 2, 'valid')\n",
        "        self.bn2 = keras.layers.BatchNormalization()\n",
        "        self.conv3 = keras.layers.Conv2DTranspose(self.n_f // 4, self.n_k, 2, 'same')\n",
        "        self.bn3 = keras.layers.BatchNormalization()\n",
        "        self.conv4 = keras.layers.Conv2DTranspose(1, self.n_k, 2, 'same')\n",
        "        return\n",
        "\n",
        "    def call(self, inputs, training=None):\n",
        "        # [b, 100] => [b, 3, 3, 512]\n",
        "        x = tf.nn.leaky_relu(tf.reshape(self.dense1(inputs), shape=[-1, 3, 3, self.n_f]))\n",
        "        x = tf.nn.leaky_relu(self.bn2(self.conv2(x), training=training))\n",
        "        x = tf.nn.leaky_relu(self.bn3(self.conv3(x), training=training))\n",
        "        x = tf.tanh(self.conv4(x))\n",
        "        return x\n"
      ]
    },
    {
      "cell_type": "code",
      "execution_count": 4,
      "metadata": {
        "id": "YJbvqelwD3zP"
      },
      "outputs": [],
      "source": [
        "class Discriminator(keras.Model):\n",
        "\n",
        "    def __init__(self):\n",
        "        super(Discriminator, self).__init__()\n",
        "\n",
        "        self.n_f = 64\n",
        "        self.n_k = 4\n",
        "        \n",
        "        # input image is [-1, 28, 28, 1]\n",
        "        self.conv1 = keras.layers.Conv2D(self.n_f, self.n_k, 2, 'same')\n",
        "        self.conv2 = keras.layers.Conv2D(self.n_f * 2, self.n_k, 2, 'same')\n",
        "        self.bn2 = keras.layers.BatchNormalization()\n",
        "        self.conv3 = keras.layers.Conv2D(self.n_f * 4, self.n_k, 2, 'same')\n",
        "        self.bn3 = keras.layers.BatchNormalization()\n",
        "        self.flatten4 = keras.layers.Flatten()\n",
        "        self.dense4 = keras.layers.Dense(1)\n",
        "        return\n",
        "\n",
        "    def call(self, inputs, training=None):\n",
        "        x = tf.nn.leaky_relu(self.conv1(inputs))\n",
        "        x = tf.nn.leaky_relu(self.bn2(self.conv2(x), training=training))\n",
        "        x = tf.nn.leaky_relu(self.bn3(self.conv3(x), training=training))\n",
        "        x = self.dense4(self.flatten4(x))\n",
        "        return x"
      ]
    },
    {
      "cell_type": "code",
      "execution_count": 5,
      "metadata": {
        "id": "JGWGkhJXD6TI"
      },
      "outputs": [],
      "source": [
        "g = Generator()\n",
        "d = Discriminator()"
      ]
    },
    {
      "cell_type": "code",
      "execution_count": 7,
      "metadata": {
        "colab": {
          "base_uri": "https://localhost:8080/",
          "height": 283
        },
        "id": "DfxbeKgUD8Za",
        "outputId": "668e7744-99b3-43dd-ebae-82d6dec1fb1b"
      },
      "outputs": [
        {
          "data": {
            "text/plain": [
              "<matplotlib.image.AxesImage at 0x2182fbc6448>"
            ]
          },
          "execution_count": 7,
          "metadata": {},
          "output_type": "execute_result"
        },
        {
          "data": {
            "image/png": "[encoded data removed]",
            "text/plain": [
              "<Figure size 640x480 with 1 Axes>"
            ]
          },
          "metadata": {},
          "output_type": "display_data"
        }
      ],
      "source": [
        "import matplotlib.pyplot as plt\n",
        "\n",
        "noise = tf.random.normal([1, 100])\n",
        "generated_image = g(noise, training=False)\n",
        "\n",
        "plt.imshow(generated_image[0, :, :, 0], cmap='gray')"
      ]
    },
    {
      "cell_type": "code",
      "execution_count": 8,
      "metadata": {
        "colab": {
          "base_uri": "https://localhost:8080/"
        },
        "id": "KXnqguTdD-VF",
        "outputId": "c4ced74e-0e29-4a81-aca6-5bdad88ba2a0"
      },
      "outputs": [
        {
          "name": "stdout",
          "output_type": "stream",
          "text": [
            "tf.Tensor([[-0.00031013]], shape=(1, 1), dtype=float32)\n"
          ]
        }
      ],
      "source": [
        "decision = d(generated_image)\n",
        "print (decision)"
      ]
    },
    {
      "cell_type": "code",
      "execution_count": 9,
      "metadata": {
        "id": "F6HXfTanF41C"
      },
      "outputs": [],
      "source": [
        "z_dim = 50\n",
        "epochs = 1000\n",
        "batch_size = 128\n",
        "learning_rate = 0.0002\n",
        "is_training = True"
      ]
    },
    {
      "cell_type": "code",
      "execution_count": 10,
      "metadata": {
        "colab": {
          "base_uri": "https://localhost:8080/"
        },
        "id": "SVbk8Ya0EBRC",
        "outputId": "7ce52c88-869a-46ea-ad96-cecedc1c9790"
      },
      "outputs": [
        {
          "name": "stdout",
          "output_type": "stream",
          "text": [
            "Model: \"generator_1\"\n",
            "_________________________________________________________________\n",
            "Layer (type)                 Output Shape              Param #   \n",
            "=================================================================\n",
            "dense_2 (Dense)              multiple                  235008    \n",
            "_________________________________________________________________\n",
            "conv2d_transpose_3 (Conv2DTr multiple                  1179904   \n",
            "_________________________________________________________________\n",
            "batch_normalization_4 (Batch multiple                  1024      \n",
            "_________________________________________________________________\n",
            "conv2d_transpose_4 (Conv2DTr multiple                  524416    \n",
            "_________________________________________________________________\n",
            "batch_normalization_5 (Batch multiple                  512       \n",
            "_________________________________________________________________\n",
            "conv2d_transpose_5 (Conv2DTr multiple                  2049      \n",
            "=================================================================\n",
            "Total params: 1,942,913\n",
            "Trainable params: 1,942,145\n",
            "Non-trainable params: 768\n",
            "_________________________________________________________________\n",
            "Model: \"discriminator_1\"\n",
            "_________________________________________________________________\n",
            "Layer (type)                 Output Shape              Param #   \n",
            "=================================================================\n",
            "conv2d_3 (Conv2D)            multiple                  1088      \n",
            "_________________________________________________________________\n",
            "conv2d_4 (Conv2D)            multiple                  131200    \n",
            "_________________________________________________________________\n",
            "batch_normalization_6 (Batch multiple                  512       \n",
            "_________________________________________________________________\n",
            "conv2d_5 (Conv2D)            multiple                  524544    \n",
            "_________________________________________________________________\n",
            "batch_normalization_7 (Batch multiple                  1024      \n",
            "_________________________________________________________________\n",
            "flatten_1 (Flatten)          multiple                  0         \n",
            "_________________________________________________________________\n",
            "dense_3 (Dense)              multiple                  4097      \n",
            "=================================================================\n",
            "Total params: 662,465\n",
            "Trainable params: 661,697\n",
            "Non-trainable params: 768\n",
            "_________________________________________________________________\n"
          ]
        }
      ],
      "source": [
        "generator = Generator()\n",
        "generator.build(input_shape=(batch_size, z_dim))\n",
        "generator.summary()\n",
        "discriminator = Discriminator()\n",
        "discriminator.build(input_shape=(batch_size, 28, 28, 1))\n",
        "discriminator.summary()\n",
        "\n",
        "# prepare optimizer\n",
        "d_optimizer = keras.optimizers.Adam(learning_rate=learning_rate, beta_1=0.5)\n",
        "g_optimizer = keras.optimizers.Adam(learning_rate=learning_rate, beta_1=0.5)"
      ]
    },
    {
      "cell_type": "code",
      "execution_count": 11,
      "metadata": {
        "id": "eY6wBmnmHVAf"
      },
      "outputs": [],
      "source": [
        "def loss_real(logits):\n",
        "    return tf.reduce_mean(tf.nn.sigmoid_cross_entropy_with_logits(logits=logits,\n",
        "                                                                  labels=tf.ones_like(logits)))\n",
        "\n",
        "def loss_fake(logits):\n",
        "    return tf.reduce_mean(tf.nn.sigmoid_cross_entropy_with_logits(logits=logits,\n",
        "                                                                  labels=tf.zeros_like(logits)))"
      ]
    },
    {
      "cell_type": "code",
      "execution_count": 12,
      "metadata": {
        "id": "2zMwmTykFzx6"
      },
      "outputs": [],
      "source": [
        "def dis_loss(generator, discriminator, input_noise, real_image, is_trainig):\n",
        "    fake_image = generator(input_noise, is_trainig)\n",
        "    d_real_logits = discriminator(real_image, is_trainig)\n",
        "    d_fake_logits = discriminator(fake_image, is_trainig)\n",
        "\n",
        "    d_loss_real = loss_real(d_real_logits)\n",
        "    d_loss_fake = loss_fake(d_fake_logits)\n",
        "    loss = d_loss_real + d_loss_fake\n",
        "    return loss"
      ]
    },
    {
      "cell_type": "code",
      "execution_count": 13,
      "metadata": {
        "id": "aWJsfIaVHTwT"
      },
      "outputs": [],
      "source": [
        "def gen_loss(generator, discriminator, input_noise, is_trainig):\n",
        "    fake_image = generator(input_noise, is_trainig)\n",
        "    fake_loss = discriminator(fake_image, is_trainig)\n",
        "    loss = loss_real(fake_loss)\n",
        "    return loss"
      ]
    },
    {
      "cell_type": "code",
      "execution_count": 14,
      "metadata": {
        "colab": {
          "base_uri": "https://localhost:8080/"
        },
        "id": "J2KuIjxTGtz4",
        "outputId": "64ea687d-b652-49a2-e66a-70e699f5127e"
      },
      "outputs": [
        {
          "name": "stdout",
          "output_type": "stream",
          "text": [
            "0 d loss: 1.4290046691894531 g loss: 1.641724944114685\n",
            "100 d loss: 0.7210309505462646 g loss: 2.361665725708008\n",
            "200 d loss: 0.6720672845840454 g loss: 1.7355180978775024\n",
            "300 d loss: 0.5668913125991821 g loss: 1.7708803415298462\n",
            "400 d loss: 1.0395450592041016 g loss: 2.9042696952819824\n",
            "500 d loss: 0.615563154220581 g loss: 1.8456766605377197\n",
            "600 d loss: 0.5957012176513672 g loss: 2.0187792778015137\n",
            "700 d loss: 0.51707923412323 g loss: 1.7254284620285034\n",
            "800 d loss: 0.6588905453681946 g loss: 2.658285140991211\n",
            "900 d loss: 2.004124879837036 g loss: 2.2641847133636475\n"
          ]
        }
      ],
      "source": [
        "for epoch in range(epochs):\n",
        "\n",
        "    batch_x = next(train_data_iter)\n",
        "    batch_x = tf.reshape(batch_x, shape=inputs_shape)\n",
        "    batch_x = batch_x * 2.0 - 1.0\n",
        "    batch_z = tf.random.normal(shape=[batch_size, z_dim])\n",
        "\n",
        "    with tf.GradientTape() as tape:\n",
        "        d_loss = dis_loss(generator, discriminator, batch_z, batch_x, is_training)\n",
        "    grads = tape.gradient(d_loss, discriminator.trainable_variables)\n",
        "    d_optimizer.apply_gradients(zip(grads, discriminator.trainable_variables))\n",
        "\n",
        "    with tf.GradientTape() as tape:\n",
        "        g_loss = gen_loss(generator, discriminator, batch_z, is_training)\n",
        "    grads = tape.gradient(g_loss, generator.trainable_variables)\n",
        "    g_optimizer.apply_gradients(zip(grads, generator.trainable_variables))\n",
        "\n",
        "\n",
        "    if epoch % 100 == 0:\n",
        "\n",
        "        print(epoch, 'd loss:', float(d_loss), 'g loss:', float(g_loss))"
      ]
    },
    {
      "cell_type": "code",
      "execution_count": 18,
      "metadata": {
        "colab": {
          "base_uri": "https://localhost:8080/",
          "height": 283
        },
        "id": "JN1Uw5UPJBJH",
        "outputId": "a04d369d-d330-4196-be9b-8f98c5dbc6ee"
      },
      "outputs": [
        {
          "data": {
            "text/plain": [
              "<matplotlib.image.AxesImage at 0x21876b34b88>"
            ]
          },
          "execution_count": 18,
          "metadata": {},
          "output_type": "execute_result"
        },
        {
          "data": {
            "image/png": "[encoded data removed]",
            "text/plain": [
              "<Figure size 640x480 with 1 Axes>"
            ]
          },
          "metadata": {},
          "output_type": "display_data"
        }
      ],
      "source": [
        "noise = tf.random.normal([1, 50])\n",
        "generated_image = generator(noise, training=False)\n",
        "\n",
        "plt.imshow(generated_image[0, :, :, 0], cmap='gray')"
      ]
    }
  ],
  "metadata": {
    "accelerator": "GPU",
    "colab": {
      "provenance": []
    },
    "kernelspec": {
      "display_name": "Python 3",
      "name": "python3"
    },
    "language_info": {
      "codemirror_mode": {
        "name": "ipython",
        "version": 3
      },
      "file_extension": ".py",
      "mimetype": "text/x-python",
      "name": "python",
      "nbconvert_exporter": "python",
      "pygments_lexer": "ipython3",
      "version": "3.7.13"
    }
  },
  "nbformat": 4,
  "nbformat_minor": 0
}
